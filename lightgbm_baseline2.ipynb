{
 "cells": [
  {
   "cell_type": "code",
   "execution_count": 26,
   "metadata": {},
   "outputs": [],
   "source": [
    "import pandas as pd\n",
    "import numpy as np\n",
    "import matplotlib\n",
    "import matplotlib.pyplot as plt\n",
    "import warnings\n",
    "import seaborn as sns\n",
    "import scipy.special as jn\n",
    "warnings.filterwarnings('ignore')\n",
    "%matplotlib inline\n",
    "\n",
    "# sklearn 预测\n",
    "from sklearn import linear_model,preprocessing\n",
    "from sklearn.svm import SVR\n",
    "from sklearn.ensemble import RandomForestRegressor,GradientBoostingRegressor\n",
    "\n",
    "# 数据降维度\n",
    "\n",
    "from sklearn.decomposition import PCA,FastICA,FactorAnalysis,SparsePCA\n",
    "\n",
    "import xgboost as xgb\n",
    "import lightgbm as lgb\n",
    "# 模型评估指标，参数搜索\n",
    "from sklearn.model_selection import GridSearchCV,cross_val_score,StratifiedKFold,train_test_split\n",
    "from sklearn.metrics import mean_absolute_error,mean_squared_error"
   ]
  },
  {
   "cell_type": "code",
   "execution_count": 27,
   "metadata": {},
   "outputs": [],
   "source": [
    "train_data = pd.read_csv('./data/train_v1.csv')\n",
    "test_data = pd.read_csv('./data/testA_v1.csv')\n",
    "features = [col for col in train_data if col not in ['SaleID','name','price','brand']]"
   ]
  },
  {
   "cell_type": "code",
   "execution_count": 28,
   "metadata": {},
   "outputs": [],
   "source": [
    "x_train = train_data[features]\n",
    "y_train = train_data['price']\n",
    "x_test = test_data[features]"
   ]
  },
  {
   "cell_type": "code",
   "execution_count": 31,
   "metadata": {},
   "outputs": [],
   "source": [
    "def xgb_model(x_data,y_data):\n",
    "    xgbModel = xgb.XGBRegressor(n_estimators=3000,learning_rate= 0.03,max_depth=7,\n",
    "                                subsample=0.6,colsample_bytree=0.6,\n",
    "                                gamma=0.5,reg_alpha=1,reg_lambda = 1,\n",
    "                                objective='reg:squarederror')\n",
    "#     param = {\n",
    "#         'learning_rate':[0.01,0.1]\n",
    "#     }\n",
    "#     xgbModel = GridSearchCV(estimate,param)\n",
    "    xgbModel.fit(x_data,y_data)\n",
    "    return xgbModel\n",
    "def lgb_model(x_data,y_data):\n",
    "    y_data = np.log(1+y_data)\n",
    "    lgbModel = lgb.LGBMRegressor(n_estimators=300,learning_rate = 0.03,max_depth = 11,num_leaves= 200,\n",
    "                                 subsample=0.6,colsample_bytree=0.6,lambda_l2 = 1,lambda_l1 = 1)\n",
    "#     param = {\n",
    "#         'learning_rate':[0.01,0.1]\n",
    "#     }\n",
    "#     lgbModel = GridSearchCV(estimate,param)\n",
    "    lgbModel.fit(x_data,y_data)\n",
    "    return lgbModel    "
   ]
  },
  {
   "cell_type": "code",
   "execution_count": 32,
   "metadata": {},
   "outputs": [
    {
     "name": "stdout",
     "output_type": "stream",
     "text": [
      "[532.663805337315]\n",
      "[600.4327619049561]\n",
      "[532.663805337315, 535.1792437403592]\n",
      "[600.4327619049561, 605.2740693953159]\n",
      "[532.663805337315, 535.1792437403592, 532.7023820151663]\n",
      "[600.4327619049561, 605.2740693953159, 601.6219618685772]\n",
      "[532.663805337315, 535.1792437403592, 532.7023820151663, 534.4891041564232]\n",
      "[600.4327619049561, 605.2740693953159, 601.6219618685772, 603.3614241691288]\n",
      "[532.663805337315, 535.1792437403592, 532.7023820151663, 534.4891041564232, 536.2094598017835]\n",
      "[600.4327619049561, 605.2740693953159, 601.6219618685772, 603.3614241691288, 589.3310259098486]\n",
      "training MAE 534.2487990102094\n",
      "val MAE 600.0042486495653\n"
     ]
    }
   ],
   "source": [
    "# 5 折交叉验证\n",
    "score_train = []\n",
    "score = []\n",
    "sk = StratifiedKFold(n_splits= 5,shuffle=True,random_state=0)\n",
    "for train_ind,val_ind in sk.split(x_train,y_train):\n",
    "    x_data = x_train.iloc[train_ind,:]\n",
    "    y_data = y_train.iloc[train_ind]\n",
    "    x_val = x_train.iloc[val_ind,:]\n",
    "    y_val = y_train.iloc[val_ind]\n",
    "    \n",
    "    lgbReg = lgb_model(x_data,y_data)\n",
    "    score_train.append(mean_absolute_error(y_data,np.exp(lgbReg.predict(x_data))-1))\n",
    "    score.append(mean_absolute_error(y_val,np.exp(lgbReg.predict(x_val))-1))\n",
    "    print(score_train)\n",
    "    print(score)\n",
    "print(\"training MAE\",np.mean(score_train))\n",
    "print('val MAE',np.mean(score))\n"
   ]
  },
  {
   "cell_type": "code",
   "execution_count": 10,
   "metadata": {},
   "outputs": [],
   "source": [
    "# 划分单一验证集合，做验证\n",
    "train_x ,val_x,train_y,val_y = train_test_split(x_train,y_train,test_size = 0.3)"
   ]
  },
  {
   "cell_type": "code",
   "execution_count": 18,
   "metadata": {},
   "outputs": [
    {
     "name": "stdout",
     "output_type": "stream",
     "text": [
      "XGB_MAE 530.6346084688955\n"
     ]
    }
   ],
   "source": [
    "xgbReg = xgb_model(train_x,train_y)\n",
    "pre_xgb = xgbReg.predict(val_x)\n",
    "MAE_xgb = mean_absolute_error(val_y,pre_xgb)\n",
    "print('XGB_MAE',MAE_xgb)"
   ]
  },
  {
   "cell_type": "code",
   "execution_count": 19,
   "metadata": {},
   "outputs": [
    {
     "name": "stdout",
     "output_type": "stream",
     "text": [
      "LGB_MAE 518.5449946351138\n"
     ]
    }
   ],
   "source": [
    "lgbReg = lgb_model(train_x,train_y)\n",
    "pre_lgb = lgbReg.predict(val_x\n",
    "                        )\n",
    "MAE_lgb = mean_absolute_error(val_y,pre_lgb)\n",
    "print('LGB_MAE',MAE_lgb)"
   ]
  },
  {
   "cell_type": "code",
   "execution_count": 20,
   "metadata": {},
   "outputs": [
    {
     "name": "stdout",
     "output_type": "stream",
     "text": [
      "Blend_MAE 511.1442566400626\n"
     ]
    }
   ],
   "source": [
    "val_blend = pre_xgb * (MAE_lgb/(MAE_lgb+MAE_xgb)) + pre_lgb * (MAE_xgb/(MAE_xgb+MAE_lgb))\n",
    "MAE_blend = mean_absolute_error(val_y,val_blend)\n",
    "print(\"Blend_MAE\",MAE_blend)"
   ]
  },
  {
   "cell_type": "code",
   "execution_count": 21,
   "metadata": {},
   "outputs": [
    {
     "name": "stdout",
     "output_type": "stream",
     "text": [
      "Training XGB\n",
      "Training LGB\n"
     ]
    }
   ],
   "source": [
    "#全部训练集合训练一遍，在测集合上做测试 \n",
    "print('Training XGB')\n",
    "xgbReg = xgb_model(x_train,y_train)\n",
    "testA_xgb = xgbReg.predict(x_test)\n",
    "print(\"Training LGB\")\n",
    "lgbReg = lgb_model(x_train,y_train)\n",
    "testB_lgb = lgbReg.predict(x_test)"
   ]
  },
  {
   "cell_type": "code",
   "execution_count": 24,
   "metadata": {},
   "outputs": [],
   "source": [
    "testA_blend = testA_xgb * (MAE_lgb/(MAE_lgb+MAE_xgb)) + testB_lgb * (MAE_xgb/(MAE_xgb+MAE_lgb))\n",
    "testA_blend[testA_blend<0] = 10\n",
    "\n",
    "submissionA_v4 = pd.DataFrame(np.concatenate([test_data['SaleID'][:,np.newaxis],\n",
    "                                             testA_blend[:,np.newaxis]],axis = 1),\n",
    "                              columns = ['SaleID','price'])\n"
   ]
  },
  {
   "cell_type": "code",
   "execution_count": 25,
   "metadata": {},
   "outputs": [],
   "source": [
    "submissionA_v4.head()\n",
    "submissionA_v4.to_csv('./data/submissionA_v4.csv',index = False)"
   ]
  },
  {
   "cell_type": "code",
   "execution_count": null,
   "metadata": {},
   "outputs": [],
   "source": []
  }
 ],
 "metadata": {
  "kernelspec": {
   "display_name": "Python 3",
   "language": "python",
   "name": "python3"
  },
  "language_info": {
   "codemirror_mode": {
    "name": "ipython",
    "version": 3
   },
   "file_extension": ".py",
   "mimetype": "text/x-python",
   "name": "python",
   "nbconvert_exporter": "python",
   "pygments_lexer": "ipython3",
   "version": "3.7.3"
  }
 },
 "nbformat": 4,
 "nbformat_minor": 4
}
